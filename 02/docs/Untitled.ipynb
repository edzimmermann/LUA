{
 "cells": [
  {
   "cell_type": "markdown",
   "id": "53678533",
   "metadata": {},
   "source": [
    "# Instructions\n",
    "\n",
    "Calculate the Hamming Distance between two DNA strands.\n",
    "\n",
    "Your body is made up of cells that contain DNA. Those cells regularly wear out and need replacing, which they achieve by dividing into daughter cells. In fact, the average human body experiences about 10 quadrillion cell divisions in a lifetime!\n",
    "\n",
    "When cells divide, their DNA replicates too. Sometimes during this process mistakes happen and single pieces of DNA get encoded with the incorrect information. If we compare two strands of DNA and count the differences between them we can see how many mistakes occurred. This is known as the \"Hamming Distance\".\n",
    "\n",
    "We read DNA using the letters C,A,G and T. Two strands might look like this:\n",
    "\n",
    "    GAGCCTACTAACGGGAT\n",
    "    CATCGTAATGACGGCCT\n",
    "    ^ ^ ^  ^ ^    ^^\n",
    "\n",
    "They have 7 differences, and therefore the Hamming Distance is 7.\n",
    "\n",
    "The Hamming Distance is useful for lots of things in science, not just biology, so it's a nice phrase to be familiar with :)\n",
    "\n",
    "# Implementation notes\n",
    "\n",
    "The Hamming distance is only defined for sequences of equal length, so\n",
    "an attempt to calculate it between sequences of different lengths should\n",
    "not work. The general handling of this situation (e.g., raising an\n",
    "exception vs returning a special value) may differ between languages.\n"
   ]
  },
  {
   "cell_type": "code",
   "execution_count": 19,
   "id": "0442955a",
   "metadata": {},
   "outputs": [],
   "source": [
    "\n",
    "function dist(a,b)\n",
    "  if #a ~= #b then return -1 end\n",
    "  local distance = 0\n",
    "  for i = 1, a:len() do\n",
    "    if (a:sub(i, i) ~= b:sub(i, i)) then\n",
    "      distance = distance + 1\n",
    "    end\n",
    "  end\n",
    "  return distance\n",
    "end\n",
    "\n"
   ]
  },
  {
   "cell_type": "code",
   "execution_count": 27,
   "id": "994f4c30",
   "metadata": {},
   "outputs": [
    {
     "name": "stdout",
     "output_type": "stream",
     "text": [
      "7 \n"
     ]
    }
   ],
   "source": [
    "\n",
    "a=\"GAGCCTACTAACGGGAT\"\n",
    "b=\"CATCGTAATGACGGCCT\"\n",
    "\n",
    "print(dist(a,b))"
   ]
  },
  {
   "cell_type": "code",
   "execution_count": 13,
   "id": "31ad7259",
   "metadata": {},
   "outputs": [
    {
     "name": "stdout",
     "output_type": "stream",
     "text": [
      "6 \n"
     ]
    }
   ],
   "source": [
    "\n",
    "local seq1=\"AGCCTACTAACGGGAT\"\n",
    "local seq3=\"ATCGTAATGACGGCCT\"\n",
    "\n",
    "print(dist(seq1,seq3))"
   ]
  },
  {
   "cell_type": "code",
   "execution_count": 14,
   "id": "1690583b",
   "metadata": {},
   "outputs": [
    {
     "name": "stdout",
     "output_type": "stream",
     "text": [
      "nil \n",
      "\n"
     ]
    }
   ],
   "source": [
    "print(seq3)"
   ]
  },
  {
   "cell_type": "code",
   "execution_count": 23,
   "id": "dd43e5ac",
   "metadata": {},
   "outputs": [],
   "source": [
    "function dist2(a,b)\n",
    "  if #a ~= #b then return -1 end\n",
    "  local distance = 0\n",
    "  for i = 1, a:len() do\n",
    "    print (  a:sub(i, i) )\n",
    "    if (a:byte(i, i) ~= b:byte(i, i)) then\n",
    "      distance = distance + 1\n",
    "    end\n",
    "  end\n",
    "  return distance\n",
    "end\n",
    "\n"
   ]
  },
  {
   "cell_type": "code",
   "execution_count": 24,
   "id": "6eb13f34",
   "metadata": {},
   "outputs": [
    {
     "name": "stdout",
     "output_type": "stream",
     "text": [
      "G \n",
      "A \n",
      "G \n",
      "C \n",
      "C \n",
      "T \n",
      "A \n",
      "C \n",
      "T \n",
      "A \n",
      "A \n",
      "C \n",
      "G \n",
      "G \n",
      "G \n",
      "A \n",
      "T \n",
      "7 \n"
     ]
    }
   ],
   "source": [
    "local seq1=\"GAGCCTACTAACGGGAT\"\n",
    "local seq2=\"CATCGTAATGACGGCCT\"\n",
    "\n",
    "print(dist2(seq1,seq2))"
   ]
  },
  {
   "cell_type": "code",
   "execution_count": 25,
   "id": "1346660c",
   "metadata": {},
   "outputs": [
    {
     "name": "stdout",
     "output_type": "stream",
     "text": [
      "7 \n"
     ]
    }
   ],
   "source": [
    "function dist4(arg1,caller2)\n",
    "  if #arg1 ~= #caller2 then return -1 end\n",
    "  local distance = 0\n",
    "  for i = 1, arg1:len() do\n",
    "    if (arg1:byte(i, i) ~= caller2:byte(i, i)) then\n",
    "      distance = distance + 1\n",
    "    end\n",
    "  end\n",
    "  return distance\n",
    "end\n",
    "\n",
    "local seq1=\"GAGCCTACTAACGGGAT\"\n",
    "local seq2=\"CATCGTAATGACGGCCT\"\n",
    "\n",
    "print(dist4(seq1,seq2))\n"
   ]
  },
  {
   "cell_type": "code",
   "execution_count": 28,
   "id": "622e08a0",
   "metadata": {},
   "outputs": [
    {
     "name": "stdout",
     "output_type": "stream",
     "text": [
      "7 \n",
      "\n"
     ]
    }
   ],
   "source": [
    "print(dist4(a,b))"
   ]
  },
  {
   "cell_type": "code",
   "execution_count": null,
   "id": "a85d566a",
   "metadata": {},
   "outputs": [],
   "source": []
  }
 ],
 "metadata": {
  "kernelspec": {
   "display_name": "Lua  (XLua)",
   "language": "lua",
   "name": "xlua"
  },
  "language_info": {
   "file_extension": ".lua",
   "mimetype": "text/x-luasrc",
   "name": "lua",
   "version": "14.0.0"
  }
 },
 "nbformat": 4,
 "nbformat_minor": 5
}
