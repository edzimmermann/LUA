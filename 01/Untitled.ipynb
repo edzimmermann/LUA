{
 "cells": [
  {
   "cell_type": "markdown",
   "id": "2207d513",
   "metadata": {},
   "source": [
    "# Instructions\n",
    "\n",
    "The classical introductory exercise. Just say \"Hello, World!\".\n",
    "\n",
    "[\"Hello, World!\"](http://en.wikipedia.org/wiki/%22Hello,_world!%22_program) is\n",
    "the traditional first program for beginning programming in a new language\n",
    "or environment.\n",
    "\n",
    "The objectives are simple:\n",
    "\n",
    "- Write a function that returns the string \"Hello, World!\".\n",
    "- Run the test suite and make sure that it succeeds.\n",
    "- Submit your solution and check it at the website.\n",
    "\n",
    "If everything goes well, you will be ready to fetch your first real exercise.\n"
   ]
  },
  {
   "cell_type": "markdown",
   "id": "5a8e575a",
   "metadata": {},
   "source": [
    "# Instructions\n",
    "\n",
    "The classical introductory exercise. Just say \"Hello, World!\".\n",
    "\n",
    "[\"Hello, World!\"](http://en.wikipedia.org/wiki/%22Hello,_world!%22_program) is\n",
    "the traditional first program for beginning programming in a new language\n",
    "or environment.\n",
    "\n",
    "The objectives are simple:\n",
    "\n",
    "- Write a function that returns the string \"Hello, World!\".\n",
    "- Run the test suite and make sure that it succeeds.\n",
    "- Submit your solution and check it at the website.\n",
    "\n",
    "If everything goes well, you will be ready to fetch your first real exercise.\n"
   ]
  },
  {
   "cell_type": "code",
   "execution_count": 1,
   "id": "65de503e",
   "metadata": {},
   "outputs": [
    {
     "name": "stdout",
     "output_type": "stream",
     "text": [
      "hello world \n",
      "\n"
     ]
    }
   ],
   "source": [
    "print (\"hello world\")"
   ]
  },
  {
   "cell_type": "code",
   "execution_count": 60,
   "id": "679e5d3b",
   "metadata": {},
   "outputs": [],
   "source": [
    "function hello(x)\n",
    "  return \"Hello  \" .. x .. \"!\"\n",
    "end\n",
    "\n"
   ]
  },
  {
   "cell_type": "code",
   "execution_count": 2,
   "id": "e186732a",
   "metadata": {},
   "outputs": [
    {
     "ename": "[string \"print (hello(joe))\"]:1: attempt to call a nil value (global 'hello')",
     "evalue": "[string \"print (hello(joe))\"]:1: attempt to call a nil value (global 'hello')",
     "output_type": "error",
     "traceback": [
      "[string \"print (hello(joe))\"]:1: attempt to call a nil value (global 'hello')"
     ]
    }
   ],
   "source": [
    "print (hello(joe))"
   ]
  },
  {
   "cell_type": "code",
   "execution_count": 55,
   "id": "d6f0be83",
   "metadata": {},
   "outputs": [
    {
     "name": "stdout",
     "output_type": "stream",
     "text": [
      "Hello \" .. x .. \" ! \n"
     ]
    }
   ],
   "source": [
    "joe=\"marcel\"\n",
    "marcel=joe\n",
    "print (hello(marcel))"
   ]
  },
  {
   "cell_type": "code",
   "execution_count": 56,
   "id": "0432622f",
   "metadata": {},
   "outputs": [
    {
     "name": "stdout",
     "output_type": "stream",
     "text": [
      "Hello \" .. x .. \" ! \n",
      "\n"
     ]
    }
   ],
   "source": [
    "print(hello())"
   ]
  },
  {
   "cell_type": "code",
   "execution_count": 64,
   "id": "ad7fda70",
   "metadata": {},
   "outputs": [
    {
     "name": "stdout",
     "output_type": "stream",
     "text": [
      "Hello  Ed! \n",
      "\n"
     ]
    }
   ],
   "source": [
    "print(hello(\"Ed\"))"
   ]
  },
  {
   "cell_type": "code",
   "execution_count": 77,
   "id": "b4b336d5",
   "metadata": {},
   "outputs": [
    {
     "name": "stdout",
     "output_type": "stream",
     "text": [
      "Hello  12! \n",
      "\n"
     ]
    }
   ],
   "source": [
    "print (hello(12))"
   ]
  },
  {
   "cell_type": "code",
   "execution_count": 66,
   "id": "fefbdbca",
   "metadata": {},
   "outputs": [],
   "source": [
    "x=\"World\""
   ]
  },
  {
   "cell_type": "code",
   "execution_count": 9,
   "id": "6082baa6",
   "metadata": {},
   "outputs": [
    {
     "name": "stdout",
     "output_type": "stream",
     "text": [
      "Hello  frank and Susy! \n"
     ]
    }
   ],
   "source": [
    "foo = {\"Amy\", \"Susy\"}\n",
    "print (hello(foo[2]))"
   ]
  },
  {
   "cell_type": "code",
   "execution_count": 71,
   "id": "7c7e1bdf",
   "metadata": {},
   "outputs": [
    {
     "name": "stdout",
     "output_type": "stream",
     "text": [
      "Hello  1234! \n",
      "\n"
     ]
    }
   ],
   "source": [
    "print(hello(1234))"
   ]
  },
  {
   "cell_type": "code",
   "execution_count": null,
   "id": "6ce4d0f4",
   "metadata": {},
   "outputs": [],
   "source": [
    "\"hello word \" .. x .. \" blah blah\""
   ]
  },
  {
   "cell_type": "code",
   "execution_count": 79,
   "id": "36357c37",
   "metadata": {},
   "outputs": [
    {
     "name": "stdout",
     "output_type": "stream",
     "text": [
      "Hello  goo! \n"
     ]
    }
   ],
   "source": [
    "x=\"Now is the time\"\n",
    "print(hello(\"goo\"))"
   ]
  },
  {
   "cell_type": "code",
   "execution_count": 90,
   "id": "e95215b7",
   "metadata": {},
   "outputs": [],
   "source": [
    "local test=\"12111122\""
   ]
  },
  {
   "cell_type": "code",
   "execution_count": 1,
   "id": "763b2f63",
   "metadata": {},
   "outputs": [
    {
     "name": "stdout",
     "output_type": "stream",
     "text": [
      "nil \n",
      "\n"
     ]
    }
   ],
   "source": [
    "print(test)"
   ]
  },
  {
   "cell_type": "code",
   "execution_count": 88,
   "id": "3e6fbf56",
   "metadata": {},
   "outputs": [],
   "source": [
    "test=nil"
   ]
  },
  {
   "cell_type": "code",
   "execution_count": 91,
   "id": "bb513026",
   "metadata": {},
   "outputs": [
    {
     "name": "stdout",
     "output_type": "stream",
     "text": [
      "nil \n",
      "\n"
     ]
    }
   ],
   "source": [
    "print(test)"
   ]
  },
  {
   "cell_type": "code",
   "execution_count": 8,
   "id": "873d2f41",
   "metadata": {},
   "outputs": [
    {
     "name": "stdout",
     "output_type": "stream",
     "text": [
      "Hello  frank and ! \n"
     ]
    }
   ],
   "source": [
    "function hello(x)\n",
    "  return \"Hello  \" .. marcel .. \" and \"  .. x ..   \"!\"\n",
    "end\n",
    "\n",
    "marcel=\"frank\"\n",
    "print(hello(\"\"))"
   ]
  },
  {
   "cell_type": "code",
   "execution_count": 6,
   "id": "12691c2a",
   "metadata": {},
   "outputs": [
    {
     "name": "stdout",
     "output_type": "stream",
     "text": [
      "Amy & Susy \n"
     ]
    }
   ],
   "source": [
    "foo = {\"Amy\", \"Susy\"}\n",
    "\n",
    "\n",
    "c = foo[1] .. \" & \" .. foo[2]\n",
    "print (c)"
   ]
  },
  {
   "cell_type": "code",
   "execution_count": 7,
   "id": "d5f52b1f",
   "metadata": {},
   "outputs": [
    {
     "name": "stdout",
     "output_type": "stream",
     "text": [
      "{ Amy, Susy } \n",
      "\n"
     ]
    }
   ],
   "source": [
    "print(foo)"
   ]
  },
  {
   "cell_type": "code",
   "execution_count": 8,
   "id": "e7f50b97",
   "metadata": {},
   "outputs": [
    {
     "name": "stdout",
     "output_type": "stream",
     "text": [
      "Amy & Susy \n",
      "\n"
     ]
    }
   ],
   "source": [
    "print (foo[1] .. \" & \" .. foo[2] )"
   ]
  },
  {
   "cell_type": "code",
   "execution_count": null,
   "id": "5967c2dd",
   "metadata": {},
   "outputs": [],
   "source": []
  }
 ],
 "metadata": {
  "kernelspec": {
   "display_name": "Lua  (XLua)",
   "language": "lua",
   "name": "xlua"
  },
  "language_info": {
   "file_extension": ".lua",
   "mimetype": "text/x-luasrc",
   "name": "lua",
   "version": "14.0.0"
  }
 },
 "nbformat": 4,
 "nbformat_minor": 5
}
